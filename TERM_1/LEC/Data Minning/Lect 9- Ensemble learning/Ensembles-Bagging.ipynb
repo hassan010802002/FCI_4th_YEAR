{
 "cells": [
  {
   "cell_type": "markdown",
   "metadata": {},
   "source": [
    "# Ensembles Bagging\n",
    "Bagging (Bootstrap Aggregation) and Random Subspace ensembles.  \n",
    "In `scikit-learn` both of these are implemented using the `BaggingClassifier` object. \n",
    "1. Bootstrap sampling\n",
    "2. Bagging  \n",
    "    - the impact of diversity\n",
    "    - stable and unstable classifiers\n",
    "3. Random Subspace   \n",
    "\n",
    "This notebook requires the `ensembles-function.py` module and the wine dataset in `wine.csv`."
   ]
  },
  {
   "cell_type": "code",
   "execution_count": 1,
   "metadata": {},
   "outputs": [],
   "source": [
    "import pandas as pd\n",
    "import numpy as np\n",
    "import matplotlib.pyplot as plt"
   ]
  },
  {
   "cell_type": "markdown",
   "metadata": {},
   "source": [
    "## Bootstrap sampling\n",
    "To illustrate how bootstrap sampling works we:\n",
    "1. create a numpy array with N entries, (say 1,000)\n",
    "2. select a sample from this array of size N using sampling with replacement\n",
    "3. convert this sample to a set to see how many unique entries there are\n",
    "\n",
    "Typically, ~63% of entries will be selected with many selected multiple times.  \n",
    "About 37% of entries will not be selected."
   ]
  },
  {
   "cell_type": "code",
   "execution_count": 2,
   "metadata": {},
   "outputs": [
    {
     "data": {
      "text/plain": [
       "631"
      ]
     },
     "execution_count": 2,
     "metadata": {},
     "output_type": "execute_result"
    }
   ],
   "source": [
    "N = 1000\n",
    "data = np.arange(N)\n",
    "BS = np.random.choice(data, size = N)\n",
    "BS_unique = set(BS)\n",
    "len(BS_unique)"
   ]
  },
  {
   "cell_type": "markdown",
   "metadata": {},
   "source": [
    "Load the wine dataset. "
   ]
  },
  {
   "cell_type": "code",
   "execution_count": 3,
   "metadata": {},
   "outputs": [
    {
     "data": {
      "text/html": [
       "<div>\n",
       "<style scoped>\n",
       "    .dataframe tbody tr th:only-of-type {\n",
       "        vertical-align: middle;\n",
       "    }\n",
       "\n",
       "    .dataframe tbody tr th {\n",
       "        vertical-align: top;\n",
       "    }\n",
       "\n",
       "    .dataframe thead th {\n",
       "        text-align: right;\n",
       "    }\n",
       "</style>\n",
       "<table border=\"1\" class=\"dataframe\">\n",
       "  <thead>\n",
       "    <tr style=\"text-align: right;\">\n",
       "      <th></th>\n",
       "      <th>Alcohol</th>\n",
       "      <th>Malic_acid</th>\n",
       "      <th>Ash</th>\n",
       "      <th>Alcalinity_of_ash</th>\n",
       "      <th>Magnesium</th>\n",
       "      <th>Total_phenols</th>\n",
       "      <th>Flavanoids</th>\n",
       "      <th>Nonflavanoid_phenols</th>\n",
       "      <th>Proanthocyanins</th>\n",
       "      <th>Color_intensity</th>\n",
       "      <th>Hue</th>\n",
       "      <th>OD280.2FOD315_of_diluted_wines</th>\n",
       "      <th>class.1</th>\n",
       "      <th>class</th>\n",
       "    </tr>\n",
       "  </thead>\n",
       "  <tbody>\n",
       "    <tr>\n",
       "      <th>0</th>\n",
       "      <td>0.842105</td>\n",
       "      <td>0.191700</td>\n",
       "      <td>0.572193</td>\n",
       "      <td>0.257732</td>\n",
       "      <td>0.619565</td>\n",
       "      <td>0.627586</td>\n",
       "      <td>0.573840</td>\n",
       "      <td>0.283019</td>\n",
       "      <td>0.593060</td>\n",
       "      <td>0.372014</td>\n",
       "      <td>0.455285</td>\n",
       "      <td>0.970696</td>\n",
       "      <td>0.561341</td>\n",
       "      <td>C1</td>\n",
       "    </tr>\n",
       "    <tr>\n",
       "      <th>1</th>\n",
       "      <td>0.571053</td>\n",
       "      <td>0.205534</td>\n",
       "      <td>0.417112</td>\n",
       "      <td>0.030928</td>\n",
       "      <td>0.326087</td>\n",
       "      <td>0.575862</td>\n",
       "      <td>0.510549</td>\n",
       "      <td>0.245283</td>\n",
       "      <td>0.274448</td>\n",
       "      <td>0.264505</td>\n",
       "      <td>0.463415</td>\n",
       "      <td>0.780220</td>\n",
       "      <td>0.550642</td>\n",
       "      <td>C1</td>\n",
       "    </tr>\n",
       "    <tr>\n",
       "      <th>2</th>\n",
       "      <td>0.560526</td>\n",
       "      <td>0.320158</td>\n",
       "      <td>0.700535</td>\n",
       "      <td>0.412371</td>\n",
       "      <td>0.336957</td>\n",
       "      <td>0.627586</td>\n",
       "      <td>0.611814</td>\n",
       "      <td>0.320755</td>\n",
       "      <td>0.757098</td>\n",
       "      <td>0.375427</td>\n",
       "      <td>0.447154</td>\n",
       "      <td>0.695971</td>\n",
       "      <td>0.646933</td>\n",
       "      <td>C1</td>\n",
       "    </tr>\n",
       "    <tr>\n",
       "      <th>3</th>\n",
       "      <td>0.878947</td>\n",
       "      <td>0.239130</td>\n",
       "      <td>0.609626</td>\n",
       "      <td>0.319588</td>\n",
       "      <td>0.467391</td>\n",
       "      <td>0.989655</td>\n",
       "      <td>0.664557</td>\n",
       "      <td>0.207547</td>\n",
       "      <td>0.558360</td>\n",
       "      <td>0.556314</td>\n",
       "      <td>0.308943</td>\n",
       "      <td>0.798535</td>\n",
       "      <td>0.857347</td>\n",
       "      <td>C1</td>\n",
       "    </tr>\n",
       "    <tr>\n",
       "      <th>4</th>\n",
       "      <td>0.581579</td>\n",
       "      <td>0.365613</td>\n",
       "      <td>0.807487</td>\n",
       "      <td>0.536082</td>\n",
       "      <td>0.521739</td>\n",
       "      <td>0.627586</td>\n",
       "      <td>0.495781</td>\n",
       "      <td>0.490566</td>\n",
       "      <td>0.444795</td>\n",
       "      <td>0.259386</td>\n",
       "      <td>0.455285</td>\n",
       "      <td>0.608059</td>\n",
       "      <td>0.325963</td>\n",
       "      <td>C1</td>\n",
       "    </tr>\n",
       "  </tbody>\n",
       "</table>\n",
       "</div>"
      ],
      "text/plain": [
       "    Alcohol  Malic_acid       Ash  Alcalinity_of_ash  Magnesium  \\\n",
       "0  0.842105    0.191700  0.572193           0.257732   0.619565   \n",
       "1  0.571053    0.205534  0.417112           0.030928   0.326087   \n",
       "2  0.560526    0.320158  0.700535           0.412371   0.336957   \n",
       "3  0.878947    0.239130  0.609626           0.319588   0.467391   \n",
       "4  0.581579    0.365613  0.807487           0.536082   0.521739   \n",
       "\n",
       "   Total_phenols  Flavanoids  Nonflavanoid_phenols  Proanthocyanins  \\\n",
       "0       0.627586    0.573840              0.283019         0.593060   \n",
       "1       0.575862    0.510549              0.245283         0.274448   \n",
       "2       0.627586    0.611814              0.320755         0.757098   \n",
       "3       0.989655    0.664557              0.207547         0.558360   \n",
       "4       0.627586    0.495781              0.490566         0.444795   \n",
       "\n",
       "   Color_intensity       Hue  OD280.2FOD315_of_diluted_wines   class.1 class  \n",
       "0         0.372014  0.455285                        0.970696  0.561341    C1  \n",
       "1         0.264505  0.463415                        0.780220  0.550642    C1  \n",
       "2         0.375427  0.447154                        0.695971  0.646933    C1  \n",
       "3         0.556314  0.308943                        0.798535  0.857347    C1  \n",
       "4         0.259386  0.455285                        0.608059  0.325963    C1  "
      ]
     },
     "execution_count": 3,
     "metadata": {},
     "output_type": "execute_result"
    }
   ],
   "source": [
    "wine_pd = pd.read_csv('Wine.csv')\n",
    "wine_pd.head()\n"
   ]
  },
  {
   "cell_type": "code",
   "execution_count": 4,
   "metadata": {
    "scrolled": false
   },
   "outputs": [
    {
     "data": {
      "text/plain": [
       "(178, 13)"
      ]
     },
     "execution_count": 4,
     "metadata": {},
     "output_type": "execute_result"
    }
   ],
   "source": [
    "y = wine_pd.pop('class').values\n",
    "X = wine_pd.values\n",
    "X.shape"
   ]
  },
  {
   "cell_type": "code",
   "execution_count": 4,
   "metadata": {},
   "outputs": [],
   "source": [
    "from sklearn.neighbors import KNeighborsClassifier\n",
    "from sklearn.tree import DecisionTreeClassifier\n",
    "from sklearn.neural_network import MLPClassifier\n",
    "from sklearn.naive_bayes import GaussianNB\n",
    "from sklearn.linear_model import LogisticRegression\n",
    "from sklearn.model_selection import cross_val_score, cross_validate, RepeatedKFold\n",
    "from sklearn.model_selection import train_test_split\n",
    "from sklearn.ensemble import BaggingClassifier\n",
    "from sklearn.preprocessing import StandardScaler\n",
    "from sklearn.pipeline import Pipeline\n",
    "from ensemble_functions import *\n",
    "dtree = DecisionTreeClassifier(criterion='entropy')"
   ]
  },
  {
   "cell_type": "markdown",
   "metadata": {},
   "source": [
    "## Bagging\n",
    "Ensembles based on Bagging. \n",
    "- Train neural net (NN) and *k*-NN ensembles with from 2 - 15 estimators.\n",
    " - Works for neural nets\n",
    " - Doesn't work for k-NN"
   ]
  },
  {
   "cell_type": "code",
   "execution_count": 5,
   "metadata": {},
   "outputs": [],
   "source": [
    "# A helper function that will run RepeatedKFold cross validation for a range \n",
    "# of ensemble sizes (est_range).\n",
    "# Takes, the estimator, n_reps and the range as arguments. \n",
    "def eval_bag_est_range(the_est, n_reps, est_range, folds = 10):\n",
    "    n_est_dict = {}\n",
    "    for n_est in est_range: \n",
    "        the_bag = BaggingClassifier(the_est, \n",
    "                            n_estimators = n_est,\n",
    "                            max_samples = 1.0, # bootstrap resampling \n",
    "                            bootstrap = True)\n",
    "        bag_cv = cross_validate(the_bag, X,y, n_jobs=-1,\n",
    "                                cv=RepeatedKFold(n_splits=folds, n_repeats=n_reps)) \n",
    "        n_est_dict[n_est]=bag_cv['test_score'].mean()\n",
    "    return n_est_dict"
   ]
  },
  {
   "cell_type": "markdown",
   "metadata": {},
   "source": [
    "For neural networks and *k*-NN we need to normalise the data using `StandardScaler`.  \n",
    "We set this up as a pipeline so that we can use it in cross-validation."
   ]
  },
  {
   "cell_type": "code",
   "execution_count": 6,
   "metadata": {},
   "outputs": [],
   "source": [
    "kNNpipe  = Pipeline(steps=[ ('classifier', KNeighborsClassifier(n_neighbors=1))])\n",
    "\n",
    "NNPipe = Pipeline(steps=[  ('classifier', MLPClassifier(solver='lbfgs', alpha=1e-5,hidden_layer_sizes=(5, 2)))])"
   ]
  },
  {
   "cell_type": "code",
   "execution_count": 7,
   "metadata": {},
   "outputs": [
    {
     "ename": "NameError",
     "evalue": "name 'X' is not defined",
     "output_type": "error",
     "traceback": [
      "\u001b[1;31m---------------------------------------------------------------------------\u001b[0m",
      "\u001b[1;31mNameError\u001b[0m                                 Traceback (most recent call last)",
      "Cell \u001b[1;32mIn[7], line 1\u001b[0m\n\u001b[1;32m----> 1\u001b[0m res_NN_bag \u001b[38;5;241m=\u001b[39m \u001b[43meval_bag_est_range\u001b[49m\u001b[43m(\u001b[49m\u001b[43mNNPipe\u001b[49m\u001b[43m,\u001b[49m\u001b[43m \u001b[49m\u001b[38;5;241;43m10\u001b[39;49m\u001b[43m,\u001b[49m\u001b[43m \u001b[49m\u001b[38;5;28;43mrange\u001b[39;49m\u001b[43m(\u001b[49m\u001b[38;5;241;43m2\u001b[39;49m\u001b[43m,\u001b[49m\u001b[38;5;241;43m16\u001b[39;49m\u001b[43m)\u001b[49m\u001b[43m)\u001b[49m\n",
      "Cell \u001b[1;32mIn[5], line 11\u001b[0m, in \u001b[0;36meval_bag_est_range\u001b[1;34m(the_est, n_reps, est_range, folds)\u001b[0m\n\u001b[0;32m      6\u001b[0m \u001b[38;5;28;01mfor\u001b[39;00m n_est \u001b[38;5;129;01min\u001b[39;00m est_range: \n\u001b[0;32m      7\u001b[0m     the_bag \u001b[38;5;241m=\u001b[39m BaggingClassifier(the_est, \n\u001b[0;32m      8\u001b[0m                         n_estimators \u001b[38;5;241m=\u001b[39m n_est,\n\u001b[0;32m      9\u001b[0m                         max_samples \u001b[38;5;241m=\u001b[39m \u001b[38;5;241m1.0\u001b[39m, \u001b[38;5;66;03m# bootstrap resampling \u001b[39;00m\n\u001b[0;32m     10\u001b[0m                         bootstrap \u001b[38;5;241m=\u001b[39m \u001b[38;5;28;01mTrue\u001b[39;00m)\n\u001b[1;32m---> 11\u001b[0m     bag_cv \u001b[38;5;241m=\u001b[39m cross_validate(the_bag, \u001b[43mX\u001b[49m,y, n_jobs\u001b[38;5;241m=\u001b[39m\u001b[38;5;241m-\u001b[39m\u001b[38;5;241m1\u001b[39m,\n\u001b[0;32m     12\u001b[0m                             cv\u001b[38;5;241m=\u001b[39mRepeatedKFold(n_splits\u001b[38;5;241m=\u001b[39mfolds, n_repeats\u001b[38;5;241m=\u001b[39mn_reps)) \n\u001b[0;32m     13\u001b[0m     n_est_dict[n_est]\u001b[38;5;241m=\u001b[39mbag_cv[\u001b[38;5;124m'\u001b[39m\u001b[38;5;124mtest_score\u001b[39m\u001b[38;5;124m'\u001b[39m]\u001b[38;5;241m.\u001b[39mmean()\n\u001b[0;32m     14\u001b[0m \u001b[38;5;28;01mreturn\u001b[39;00m n_est_dict\n",
      "\u001b[1;31mNameError\u001b[0m: name 'X' is not defined"
     ]
    }
   ],
   "source": [
    "res_NN_bag = eval_bag_est_range(NNPipe, 10, range(2,16))"
   ]
  },
  {
   "cell_type": "code",
   "execution_count": 9,
   "metadata": {},
   "outputs": [
    {
     "data": {
      "text/plain": [
       "{2: 0.8470915032679737,\n",
       " 3: 0.9079084967320261,\n",
       " 4: 0.9381045751633986,\n",
       " 5: 0.9652941176470589,\n",
       " 6: 0.9584313725490197,\n",
       " 7: 0.9587908496732027,\n",
       " 8: 0.9669281045751633,\n",
       " 9: 0.9633006535947711,\n",
       " 10: 0.9668954248366015,\n",
       " 11: 0.9747712418300654,\n",
       " 12: 0.9718627450980393,\n",
       " 13: 0.9730392156862745,\n",
       " 14: 0.972483660130719,\n",
       " 15: 0.9762745098039215}"
      ]
     },
     "execution_count": 9,
     "metadata": {},
     "output_type": "execute_result"
    }
   ],
   "source": [
    "res_NN_bag"
   ]
  },
  {
   "cell_type": "code",
   "execution_count": 10,
   "metadata": {},
   "outputs": [],
   "source": [
    "res_kNN_bag  = eval_bag_est_range(kNNpipe, 10, range(2,16))"
   ]
  },
  {
   "cell_type": "code",
   "execution_count": 11,
   "metadata": {},
   "outputs": [
    {
     "data": {
      "text/plain": [
       "{2: 0.9449346405228758,\n",
       " 3: 0.9515359477124182,\n",
       " 4: 0.9524183006535949,\n",
       " 5: 0.9550980392156864,\n",
       " 6: 0.9525490196078431,\n",
       " 7: 0.9518627450980394,\n",
       " 8: 0.9535294117647058,\n",
       " 9: 0.9541176470588236,\n",
       " 10: 0.9505555555555556,\n",
       " 11: 0.9511111111111111,\n",
       " 12: 0.9516666666666665,\n",
       " 13: 0.9521895424836601,\n",
       " 14: 0.9537254901960784,\n",
       " 15: 0.9492483660130717}"
      ]
     },
     "execution_count": 11,
     "metadata": {},
     "output_type": "execute_result"
    }
   ],
   "source": [
    "res_kNN_bag"
   ]
  },
  {
   "cell_type": "code",
   "execution_count": 18,
   "metadata": {
    "scrolled": true
   },
   "outputs": [
    {
     "data": {
      "image/png": "[encoded data removed]",
      "text/plain": [
       "<Figure size 360x288 with 1 Axes>"
      ]
     },
     "metadata": {
      "needs_background": "light"
     },
     "output_type": "display_data"
    }
   ],
   "source": [
    "kNN_list = sorted(res_kNN_bag.items()) # sorted by key, return a list of tuples\n",
    "nc, kNN_accs = zip(*kNN_list) # unpack a list of pairs into two tuples\n",
    "NN_list = sorted(res_NN_bag.items()) # sorted by key, return a list of tuples\n",
    "nc, NN_accs = zip(*NN_list) # unpack a list of pairs into two tuples\n",
    "\n",
    "f = plt.figure(figsize=(5,4))\n",
    "\n",
    "plt.plot(nc, NN_accs, lw = 2, color = 'r', label = 'Neural Net')\n",
    "plt.plot(nc, kNN_accs, lw = 2, color = 'orange', label = 'k-NN')\n",
    "\n",
    "plt.xlabel(\"Number of estimators\")\n",
    "plt.ylabel(\"Accuracy\")\n",
    "plt.ylim([0.90,1])\n",
    "plt.legend(loc = 'upper left')\n",
    "plt.grid(axis = 'y')\n",
    "f.savefig('bag-est-plot.pdf')"
   ]
  },
  {
   "cell_type": "markdown",
   "metadata": {},
   "source": [
    "## Comparing estimators (classifiers)\n",
    "We see that bagging works (improves accuracy) for neural networks and d-trees   \n",
    "but not for logistic regression, naive Bayes and *k*-NN."
   ]
  },
  {
   "cell_type": "code",
   "execution_count": 13,
   "metadata": {},
   "outputs": [],
   "source": [
    "clf_dict = {}\n",
    "clf_dict['Tree'] = DecisionTreeClassifier(max_leaf_nodes = 6)\n",
    "clf_dict['Neural Net'] = MLPClassifier(solver='lbfgs', alpha=1e-5, \n",
    "                                       hidden_layer_sizes=(5, 2))\n",
    "clf_dict['Logistic'] = LogisticRegression(solver = 'lbfgs')\n",
    "clf_dict['k-NN'] = KNeighborsClassifier(n_neighbors=1)\n",
    "clf_dict['Bayes'] = GaussianNB()"
   ]
  },
  {
   "cell_type": "code",
   "execution_count": 14,
   "metadata": {
    "scrolled": true
   },
   "outputs": [
    {
     "name": "stdout",
     "output_type": "stream",
     "text": [
      "Mean for Tree 0.89\n",
      "Mean for Tree bag 0.96\n",
      "Mean for Neural Net 0.74\n",
      "Mean for Neural Net bag 0.97\n",
      "Mean for Logistic 0.98\n",
      "Mean for Logistic bag 0.98\n",
      "Mean for k-NN 0.95\n",
      "Mean for k-NN bag 0.95\n",
      "Mean for Bayes 0.97\n",
      "Mean for Bayes bag 0.97\n"
     ]
    }
   ],
   "source": [
    "clf_acc = {}\n",
    "bag_acc = {}\n",
    "folds, n_reps = 10,10\n",
    "n_est = 10\n",
    "v = 0\n",
    "for c_name in clf_dict.keys():\n",
    "    pipe  = Pipeline(steps=[\n",
    "                           ('classifier', clf_dict[c_name])])\n",
    "    clf_cv = cross_validate(pipe, X, y, n_jobs=-1,\n",
    "                                    cv=RepeatedKFold(n_splits=folds, n_repeats=n_reps))\n",
    "\n",
    "    the_bag = BaggingClassifier(pipe, \n",
    "                            n_estimators = n_est,\n",
    "                            max_samples = 1.0, # bootstrap resampling \n",
    "                            bootstrap = True)\n",
    "    bag_cv = cross_validate(the_bag, X, y, n_jobs=-1,\n",
    "                                    cv=RepeatedKFold(n_splits=folds, n_repeats=n_reps))\n",
    "    \n",
    "    clf_acc[c_name] = clf_cv['test_score'].mean()\n",
    "    bag_acc[c_name] = bag_cv['test_score'].mean()\n",
    "    print(\"Mean for {:s} {:.2f}\".format(c_name, clf_cv['test_score'].mean()))\n",
    "    print(\"Mean for {:s} bag {:.2f}\".format(c_name, bag_cv['test_score'].mean()))"
   ]
  },
  {
   "cell_type": "code",
   "execution_count": 19,
   "metadata": {},
   "outputs": [
    {
     "data": {
      "text/plain": [
       "{'Tree': 0.891470588235294,\n",
       " 'Neural Net': 0.7416666666666667,\n",
       " 'Logistic': 0.9848366013071894,\n",
       " 'k-NN': 0.9492483660130719,\n",
       " 'Bayes': 0.9731045751633987}"
      ]
     },
     "execution_count": 19,
     "metadata": {},
     "output_type": "execute_result"
    }
   ],
   "source": [
    "clf_acc"
   ]
  },
  {
   "cell_type": "code",
   "execution_count": 20,
   "metadata": {},
   "outputs": [
    {
     "data": {
      "image/png": "[encoded data removed]",
      "text/plain": [
       "<Figure size 504x432 with 1 Axes>"
      ]
     },
     "metadata": {
      "needs_background": "light"
     },
     "output_type": "display_data"
    }
   ],
   "source": [
    "names = clf_dict.keys()\n",
    "y_pos = np.arange(len(names))\n",
    "f = plt.figure(figsize=(7,6))\n",
    "plt.bar(y_pos-0.15, clf_acc.values(), align='center', width = 0.3, alpha=0.5, \n",
    "        label = \"Classifier\")\n",
    "plt.bar(y_pos+0.15, bag_acc.values(), align='center', color = 'r', width = 0.3, alpha=0.5,\n",
    "       label = \"Ensemble\")\n",
    "plt.xticks(y_pos, names)\n",
    "plt.ylabel('Accuracy')\n",
    "#plt.xlabel(x_lab)\n",
    "#plt.title(title)\n",
    "plt.ylim((0.5,1))\n",
    "plt.grid(axis = 'y')\n",
    "plt.legend(loc = 'lower right')\n",
    "plt.show()\n",
    "f.savefig('bag-est-bar.pdf')"
   ]
  },
  {
   "cell_type": "markdown",
   "metadata": {},
   "source": [
    "## Stability / Diversity\n",
    "We look at diversity (disagreement) within the ensembles to find an explanation for why bagging sometimes doesn't work.   \n",
    "We see there is very little disagreement between the *k*-NN estimators. "
   ]
  },
  {
   "cell_type": "code",
   "execution_count": 21,
   "metadata": {},
   "outputs": [],
   "source": [
    "# A function to draw colourmaps to show estimator diversity. \n",
    "def do_colourmap (matrix, names, title = ' ', **kwargs):\n",
    "    if 'vmx' in kwargs:    # check that 'reps' is a keyword\n",
    "        vmax_val = kwargs['vmx']\n",
    "    else: vmax_val = matrix.max()\n",
    "\n",
    "    fig, ax = plt.subplots(figsize=(5,5))\n",
    "    im = ax.imshow(matrix, cmap = 'gray', vmax= vmax_val)\n",
    "    # We want to show all ticks...\n",
    "    ax.set_xticks(np.arange(len(names)))\n",
    "    ax.set_yticks(np.arange(len(names)))\n",
    "    # ... and label them with the respective list entries\n",
    "    ax.set_xticklabels(names)\n",
    "    ax.set_yticklabels(names)\n",
    "\n",
    "    # Rotate the tick labels and set their alignment.\n",
    "    plt.setp(ax.get_xticklabels(), rotation=45, ha=\"right\",\n",
    "         rotation_mode=\"anchor\")\n",
    "\n",
    "    # Loop over data dimensions and create text annotations.\n",
    "    for i in range(len(names)):\n",
    "        for j in range(len(names)):\n",
    "            text = ax.text(j, i, round(matrix[i, j],2), size = 14,\n",
    "                           ha=\"center\", va=\"center\", color=\"orange\")\n",
    "    ax.set_title(title)\n",
    "    fig.tight_layout()\n",
    "    plt.show()\n",
    "    return fig"
   ]
  },
  {
   "cell_type": "markdown",
   "metadata": {},
   "source": [
    "Produce normalised train and test sets"
   ]
  },
  {
   "cell_type": "code",
   "execution_count": 22,
   "metadata": {},
   "outputs": [
    {
     "data": {
      "text/plain": [
       "((89, 13), (89, 13))"
      ]
     },
     "execution_count": 22,
     "metadata": {},
     "output_type": "execute_result"
    }
   ],
   "source": [
    "X_train, X_test, y_train, y_test = train_test_split(X, y, test_size=0.5, random_state=42)\n",
    "X_train.shape, X_test.shape"
   ]
  },
  {
   "cell_type": "markdown",
   "metadata": {},
   "source": [
    "The ensembles to be considered, one based on neural networks and one using *k*-NN."
   ]
  },
  {
   "cell_type": "code",
   "execution_count": 37,
   "metadata": {},
   "outputs": [],
   "source": [
    "stab_dict = {}\n",
    "n_est=5\n",
    "\n",
    "NNPipe = Pipeline(steps=[ \n",
    "                           ('classifier', MLPClassifier(solver='lbfgs', alpha=1e-5,\n",
    "                                                        hidden_layer_sizes=(5, 2)\n",
    "                                                       ))])\n",
    "kNNpipe  = Pipeline(steps=[ \n",
    "                           ('classifier', KNeighborsClassifier(n_neighbors=1))])\n",
    "\n",
    "stab_dict['Neural Net'] = BaggingClassifier(NNPipe,\n",
    "                            n_estimators = n_est,\n",
    "                            max_samples = 1.0, # bootstrap resampling \n",
    "                            bootstrap = True)\n",
    "stab_dict['kNN'] = BaggingClassifier(kNNpipe,\n",
    "                            n_estimators = n_est,\n",
    "                            max_samples = 1.0, # bootstrap resampling \n",
    "                            bootstrap = True)"
   ]
  },
  {
   "cell_type": "markdown",
   "metadata": {},
   "source": [
    "In order to look at diversity within the ensembles we access the estimators through the `.estimators_` attribute and manipulate them directly. \n",
    "- `get_consensus_prediction` is a function imported from `ensemble_functions.py` that implements majority voting.\n",
    "- `plain_dis` another function from  `ensemble_functions.py` that calculates the plain disagreement measure for two sets of predictions."
   ]
  },
  {
   "cell_type": "code",
   "execution_count": 38,
   "metadata": {},
   "outputs": [],
   "source": [
    "dist_arr_dict = {}\n",
    "n_est = 5\n",
    "\n",
    "bag_names = []\n",
    "for i in range(n_est):\n",
    "    bag_names.append('Est '+ str(i+1))\n",
    "\n",
    "clfs = ['kNN','Neural Net' ]\n",
    "for clf_name in clfs:\n",
    "    the_bag = stab_dict[clf_name]\n",
    "    bag_ests = the_bag.fit(X_train,y_train).estimators_\n",
    "    bag_df = pd.DataFrame() # The data frame where we store the estimator predictions \n",
    "    \n",
    "    # Produce predictions for the estimators on the test set. \n",
    "    for i, est in enumerate(bag_ests):\n",
    "        y_preds = est.predict(X_test)\n",
    "        bag_df['Est '+ str(i+1)]=y_preds\n",
    "    bag_df['Consensus'] = get_consensus_prediction(bag_df,bag_df.columns)\n",
    "    bag_df['Actual'] = y_test\n",
    "    bag_dis_arr = np.zeros((n_est,n_est))\n",
    "    for i_ind,i in enumerate(bag_names):\n",
    "        for j_ind,j in enumerate(bag_names):\n",
    "            bag_dis_arr[i_ind,j_ind] = plain_dis(bag_df[i],bag_df[j])\n",
    "    dist_arr_dict[clf_name] = bag_dis_arr"
   ]
  },
  {
   "cell_type": "code",
   "execution_count": 40,
   "metadata": {},
   "outputs": [
    {
     "data": {
      "text/html": [
       "<div>\n",
       "<style scoped>\n",
       "    .dataframe tbody tr th:only-of-type {\n",
       "        vertical-align: middle;\n",
       "    }\n",
       "\n",
       "    .dataframe tbody tr th {\n",
       "        vertical-align: top;\n",
       "    }\n",
       "\n",
       "    .dataframe thead th {\n",
       "        text-align: right;\n",
       "    }\n",
       "</style>\n",
       "<table border=\"1\" class=\"dataframe\">\n",
       "  <thead>\n",
       "    <tr style=\"text-align: right;\">\n",
       "      <th></th>\n",
       "      <th>Est 1</th>\n",
       "      <th>Est 2</th>\n",
       "      <th>Est 3</th>\n",
       "      <th>Est 4</th>\n",
       "      <th>Est 5</th>\n",
       "      <th>Consensus</th>\n",
       "      <th>Actual</th>\n",
       "    </tr>\n",
       "  </thead>\n",
       "  <tbody>\n",
       "    <tr>\n",
       "      <th>0</th>\n",
       "      <td>0</td>\n",
       "      <td>0</td>\n",
       "      <td>0</td>\n",
       "      <td>1</td>\n",
       "      <td>0</td>\n",
       "      <td>0</td>\n",
       "      <td>C1</td>\n",
       "    </tr>\n",
       "    <tr>\n",
       "      <th>1</th>\n",
       "      <td>0</td>\n",
       "      <td>0</td>\n",
       "      <td>0</td>\n",
       "      <td>1</td>\n",
       "      <td>0</td>\n",
       "      <td>0</td>\n",
       "      <td>C1</td>\n",
       "    </tr>\n",
       "    <tr>\n",
       "      <th>2</th>\n",
       "      <td>2</td>\n",
       "      <td>0</td>\n",
       "      <td>2</td>\n",
       "      <td>1</td>\n",
       "      <td>0</td>\n",
       "      <td>2</td>\n",
       "      <td>C3</td>\n",
       "    </tr>\n",
       "    <tr>\n",
       "      <th>3</th>\n",
       "      <td>0</td>\n",
       "      <td>0</td>\n",
       "      <td>0</td>\n",
       "      <td>1</td>\n",
       "      <td>0</td>\n",
       "      <td>0</td>\n",
       "      <td>C1</td>\n",
       "    </tr>\n",
       "    <tr>\n",
       "      <th>4</th>\n",
       "      <td>1</td>\n",
       "      <td>0</td>\n",
       "      <td>1</td>\n",
       "      <td>1</td>\n",
       "      <td>1</td>\n",
       "      <td>1</td>\n",
       "      <td>C2</td>\n",
       "    </tr>\n",
       "    <tr>\n",
       "      <th>...</th>\n",
       "      <td>...</td>\n",
       "      <td>...</td>\n",
       "      <td>...</td>\n",
       "      <td>...</td>\n",
       "      <td>...</td>\n",
       "      <td>...</td>\n",
       "      <td>...</td>\n",
       "    </tr>\n",
       "    <tr>\n",
       "      <th>84</th>\n",
       "      <td>2</td>\n",
       "      <td>0</td>\n",
       "      <td>1</td>\n",
       "      <td>1</td>\n",
       "      <td>1</td>\n",
       "      <td>1</td>\n",
       "      <td>C2</td>\n",
       "    </tr>\n",
       "    <tr>\n",
       "      <th>85</th>\n",
       "      <td>1</td>\n",
       "      <td>0</td>\n",
       "      <td>2</td>\n",
       "      <td>1</td>\n",
       "      <td>1</td>\n",
       "      <td>1</td>\n",
       "      <td>C1</td>\n",
       "    </tr>\n",
       "    <tr>\n",
       "      <th>86</th>\n",
       "      <td>0</td>\n",
       "      <td>0</td>\n",
       "      <td>0</td>\n",
       "      <td>1</td>\n",
       "      <td>1</td>\n",
       "      <td>0</td>\n",
       "      <td>C1</td>\n",
       "    </tr>\n",
       "    <tr>\n",
       "      <th>87</th>\n",
       "      <td>2</td>\n",
       "      <td>0</td>\n",
       "      <td>1</td>\n",
       "      <td>1</td>\n",
       "      <td>2</td>\n",
       "      <td>2</td>\n",
       "      <td>C3</td>\n",
       "    </tr>\n",
       "    <tr>\n",
       "      <th>88</th>\n",
       "      <td>1</td>\n",
       "      <td>0</td>\n",
       "      <td>2</td>\n",
       "      <td>1</td>\n",
       "      <td>1</td>\n",
       "      <td>1</td>\n",
       "      <td>C2</td>\n",
       "    </tr>\n",
       "  </tbody>\n",
       "</table>\n",
       "<p>89 rows × 7 columns</p>\n",
       "</div>"
      ],
      "text/plain": [
       "    Est 1  Est 2  Est 3  Est 4  Est 5  Consensus Actual\n",
       "0       0      0      0      1      0          0     C1\n",
       "1       0      0      0      1      0          0     C1\n",
       "2       2      0      2      1      0          2     C3\n",
       "3       0      0      0      1      0          0     C1\n",
       "4       1      0      1      1      1          1     C2\n",
       "..    ...    ...    ...    ...    ...        ...    ...\n",
       "84      2      0      1      1      1          1     C2\n",
       "85      1      0      2      1      1          1     C1\n",
       "86      0      0      0      1      1          0     C1\n",
       "87      2      0      1      1      2          2     C3\n",
       "88      1      0      2      1      1          1     C2\n",
       "\n",
       "[89 rows x 7 columns]"
      ]
     },
     "execution_count": 40,
     "metadata": {},
     "output_type": "execute_result"
    }
   ],
   "source": [
    "bag_df"
   ]
  },
  {
   "cell_type": "code",
   "execution_count": 41,
   "metadata": {},
   "outputs": [
    {
     "name": "stdout",
     "output_type": "stream",
     "text": [
      "Max difference in NN Ensemble: 1.000\n",
      "Max difference in kNN Ensemble: 0.067\n",
      "Overall max is: 1.000\n"
     ]
    }
   ],
   "source": [
    "print('Max difference in NN Ensemble: %4.3f' % (dist_arr_dict['Neural Net'].max()))\n",
    "print('Max difference in kNN Ensemble: %4.3f' % (dist_arr_dict['kNN'].max()))\n",
    "maxv = max(dist_arr_dict['Neural Net'].max(),dist_arr_dict['kNN'].max())\n",
    "print('Overall max is: %4.3f' % maxv)"
   ]
  },
  {
   "cell_type": "markdown",
   "metadata": {},
   "source": [
    "A colour map of the disagreement scores for the *k*-NN ensemble."
   ]
  },
  {
   "cell_type": "code",
   "execution_count": 42,
   "metadata": {},
   "outputs": [
    {
     "data": {
      "image/png": "[encoded data removed]",
      "text/plain": [
       "<Figure size 360x360 with 1 Axes>"
      ]
     },
     "metadata": {
      "needs_background": "light"
     },
     "output_type": "display_data"
    }
   ],
   "source": [
    "f = do_colourmap(dist_arr_dict['kNN'], bag_names, \n",
    "             title = 'kNN ensemble disagreement', vmx = maxv)\n",
    "f.savefig('kNN-dis-arr.pdf')"
   ]
  },
  {
   "cell_type": "markdown",
   "metadata": {},
   "source": [
    "Disagreement scores for the neural net ensemble. "
   ]
  },
  {
   "cell_type": "code",
   "execution_count": 43,
   "metadata": {},
   "outputs": [
    {
     "data": {
      "image/png": "[encoded data removed]",
      "text/plain": [
       "<Figure size 360x360 with 1 Axes>"
      ]
     },
     "metadata": {
      "needs_background": "light"
     },
     "output_type": "display_data"
    }
   ],
   "source": [
    "f = do_colourmap(dist_arr_dict['Neural Net'], bag_names, \n",
    "             title = 'Neural Net ensemble disagreement', vmx = maxv)\n",
    "f.savefig('NN-dis-arr.pdf')"
   ]
  },
  {
   "cell_type": "markdown",
   "metadata": {},
   "source": [
    "## Random Subspace\n",
    "We see that a random subspace strategy overcomes the diversity/stability problem with *k*-NN.  \n",
    "The hyper-parameter combination in the second call to `BaggingClassifier` produces a random subspace ensemble."
   ]
  },
  {
   "cell_type": "code",
   "execution_count": 44,
   "metadata": {},
   "outputs": [],
   "source": [
    "n_est = 20\n",
    "kNNpipe  = Pipeline(steps=[ \n",
    "                           ('classifier', KNeighborsClassifier(n_neighbors=1))])\n",
    "\n",
    "kNNbag = BaggingClassifier(kNNpipe,\n",
    "                            n_estimators = n_est,\n",
    "                            max_samples = 1.0, # bootstrap resampling \n",
    "                            bootstrap = True)\n",
    "\n",
    "random_SS_kNN = BaggingClassifier(kNNpipe, \n",
    "                            n_estimators = n_est,\n",
    "                            max_samples=1.0, bootstrap = False,\n",
    "                            max_features=0.5)"
   ]
  },
  {
   "cell_type": "code",
   "execution_count": 45,
   "metadata": {},
   "outputs": [],
   "source": [
    "kNNbag_cv = cross_validate(kNNbag, X, y, n_jobs=-1,\n",
    "                        cv=RepeatedKFold(n_splits=folds, n_repeats=n_reps))"
   ]
  },
  {
   "cell_type": "code",
   "execution_count": 46,
   "metadata": {},
   "outputs": [
    {
     "data": {
      "text/plain": [
       "0.9506209150326796"
      ]
     },
     "execution_count": 46,
     "metadata": {},
     "output_type": "execute_result"
    }
   ],
   "source": [
    "kNNbag_cv['test_score'].mean()"
   ]
  },
  {
   "cell_type": "code",
   "execution_count": 47,
   "metadata": {},
   "outputs": [],
   "source": [
    "rSS_cv = cross_validate(random_SS_kNN, X, y, n_jobs=-1,\n",
    "                        cv=RepeatedKFold(n_splits=folds, n_repeats=n_reps))"
   ]
  },
  {
   "cell_type": "code",
   "execution_count": 48,
   "metadata": {},
   "outputs": [
    {
     "data": {
      "text/plain": [
       "0.9776143790849673"
      ]
     },
     "execution_count": 48,
     "metadata": {},
     "output_type": "execute_result"
    }
   ],
   "source": [
    "rSS_cv['test_score'].mean()"
   ]
  },
  {
   "cell_type": "markdown",
   "metadata": {},
   "source": [
    "## Comparing Random Subspace and Bagging"
   ]
  },
  {
   "cell_type": "code",
   "execution_count": 49,
   "metadata": {},
   "outputs": [
    {
     "name": "stdout",
     "output_type": "stream",
     "text": [
      "Mean for Neural Net 0.71\n",
      "Mean for Neural Net bag 0.98\n",
      "Mean for Neural Net RS 0.98\n",
      "Mean for k-NN 0.95\n",
      "Mean for k-NN bag 0.95\n",
      "Mean for k-NN RS 0.97\n"
     ]
    }
   ],
   "source": [
    "clf_acc = {}\n",
    "bag_acc = {}\n",
    "rs_acc = {}\n",
    "folds, n_reps = 10,10\n",
    "n_est = 20\n",
    "v = 0\n",
    "clfs = ['Neural Net', 'k-NN']\n",
    "for c_name in clfs:\n",
    "    pipe  = Pipeline(steps=[ \n",
    "                           ('classifier', clf_dict[c_name])])\n",
    "    clf_cv = cross_validate(pipe, X, y, n_jobs=-1,\n",
    "                                    cv=RepeatedKFold(n_splits=folds, n_repeats=n_reps))\n",
    "\n",
    "    the_bag = BaggingClassifier(pipe, \n",
    "                            n_estimators = n_est,\n",
    "                            max_samples = 1.0, # bootstrap resampling \n",
    "                            bootstrap = True)\n",
    "    bag_cv = cross_validate(the_bag, X, y, n_jobs=-1,\n",
    "                                    cv=RepeatedKFold(n_splits=folds, n_repeats=n_reps))\n",
    "    random_SS = BaggingClassifier(pipe, \n",
    "                            n_estimators = n_est,\n",
    "                            max_samples=1.0, bootstrap = False,\n",
    "                            max_features=0.5)\n",
    "    RS_cv = cross_validate(random_SS, X, y, n_jobs=-1,\n",
    "                                    cv=RepeatedKFold(n_splits=folds, n_repeats=n_reps))\n",
    "   \n",
    "    clf_acc[c_name] = clf_cv['test_score'].mean()\n",
    "    bag_acc[c_name] = bag_cv['test_score'].mean()\n",
    "    rs_acc[c_name] = RS_cv['test_score'].mean()\n",
    "\n",
    "    print(\"Mean for {:s} {:.2f}\".format(c_name, clf_cv['test_score'].mean()))\n",
    "    print(\"Mean for {:s} bag {:.2f}\".format(c_name, bag_cv['test_score'].mean()))\n",
    "    print(\"Mean for {:s} RS {:.2f}\".format(c_name, RS_cv['test_score'].mean()))"
   ]
  },
  {
   "cell_type": "code",
   "execution_count": 50,
   "metadata": {},
   "outputs": [
    {
     "data": {
      "image/png": "[encoded data removed]",
      "text/plain": [
       "<Figure size 360x288 with 1 Axes>"
      ]
     },
     "metadata": {
      "needs_background": "light"
     },
     "output_type": "display_data"
    }
   ],
   "source": [
    "names = clfs\n",
    "y_pos = np.arange(len(names))\n",
    "f = plt.figure(figsize=(5,4))\n",
    "plt.bar(y_pos-0.2, clf_acc.values(), align='center', width = 0.2, alpha=0.5, \n",
    "        label = \"Classifier\")\n",
    "plt.bar(y_pos, bag_acc.values(), align='center', color = 'r', width = 0.2, alpha=0.5,\n",
    "       label = \"Bagging\")\n",
    "plt.bar(y_pos+0.2, rs_acc.values(), align='center', color = 'orange', width = 0.2, alpha=0.5,\n",
    "       label = \"Random Subspace\")\n",
    "\n",
    "\n",
    "plt.xticks(y_pos, names)\n",
    "plt.ylabel('Accuracy')\n",
    "#plt.xlabel(x_lab)\n",
    "#plt.title(title)\n",
    "plt.ylim((0.5,1))\n",
    "plt.grid(axis = 'y')\n",
    "plt.legend(loc = 'lower right')\n",
    "plt.show()\n",
    "f.savefig('RandomSS-bar.pdf')"
   ]
  }
 ],
 "metadata": {
  "kernelspec": {
   "display_name": "Python 3",
   "language": "python",
   "name": "python3"
  },
  "language_info": {
   "codemirror_mode": {
    "name": "ipython",
    "version": 3
   },
   "file_extension": ".py",
   "mimetype": "text/x-python",
   "name": "python",
   "nbconvert_exporter": "python",
   "pygments_lexer": "ipython3",
   "version": "3.8.5"
  },
  "varInspector": {
   "cols": {
    "lenName": 16,
    "lenType": 16,
    "lenVar": 40
   },
   "kernels_config": {
    "python": {
     "delete_cmd_postfix": "",
     "delete_cmd_prefix": "del ",
     "library": "var_list.py",
     "varRefreshCmd": "print(var_dic_list())"
    },
    "r": {
     "delete_cmd_postfix": ") ",
     "delete_cmd_prefix": "rm(",
     "library": "var_list.r",
     "varRefreshCmd": "cat(var_dic_list()) "
    }
   },
   "types_to_exclude": [
    "module",
    "function",
    "builtin_function_or_method",
    "instance",
    "_Feature"
   ],
   "window_display": false
  }
 },
 "nbformat": 4,
 "nbformat_minor": 2
}
